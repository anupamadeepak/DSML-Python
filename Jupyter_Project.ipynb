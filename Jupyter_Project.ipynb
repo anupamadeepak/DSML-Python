{
 "cells": [
  {
   "cell_type": "code",
   "execution_count": 1,
   "id": "4801893b-2c03-4194-913e-4d70ba8b4114",
   "metadata": {},
   "outputs": [
    {
     "name": "stderr",
     "output_type": "stream",
     "text": [
      "C:\\Users\\mypc\\AppData\\Local\\Temp\\ipykernel_14912\\2660915427.py:2: DeprecationWarning: \n",
      "Pyarrow will become a required dependency of pandas in the next major release of pandas (pandas 3.0),\n",
      "(to allow more performant data types, such as the Arrow string type, and better interoperability with other libraries)\n",
      "but was not found to be installed on your system.\n",
      "If this would cause problems for you,\n",
      "please provide us feedback at https://github.com/pandas-dev/pandas/issues/54466\n",
      "        \n",
      "  import pandas as pd\n"
     ]
    }
   ],
   "source": [
    "import numpy as np\n",
    "import pandas as pd\n",
    "import seaborn as sns\n",
    "import matplotlib.pyplot as plt"
   ]
  },
  {
   "cell_type": "code",
   "execution_count": 2,
   "id": "8b9564dd-e01a-42d7-a8cf-d34399e08878",
   "metadata": {},
   "outputs": [
    {
     "name": "stdout",
     "output_type": "stream",
     "text": [
      "              Name            Team  Number Position  Age               Height  \\\n",
      "0    Avery Bradley  Boston Celtics       0       PG   25  2023-02-06 00:00:00   \n",
      "1      Jae Crowder  Boston Celtics      99       SF   25  2023-06-06 00:00:00   \n",
      "2     John Holland  Boston Celtics      30       SG   27  2023-05-06 00:00:00   \n",
      "3      R.J. Hunter  Boston Celtics      28       SG   22  2023-05-06 00:00:00   \n",
      "4    Jonas Jerebko  Boston Celtics       8       PF   29  2023-10-06 00:00:00   \n",
      "..             ...             ...     ...      ...  ...                  ...   \n",
      "453   Shelvin Mack       Utah Jazz       8       PG   26  2023-03-06 00:00:00   \n",
      "454      Raul Neto       Utah Jazz      25       PG   24  2023-01-06 00:00:00   \n",
      "455   Tibor Pleiss       Utah Jazz      21        C   26  2023-03-07 00:00:00   \n",
      "456    Jeff Withey       Utah Jazz      24        C   26                  7-0   \n",
      "457       Priyanka       Utah Jazz      34        C   25  2023-03-07 00:00:00   \n",
      "\n",
      "     Weight            College     Salary  \n",
      "0       180              Texas  7730337.0  \n",
      "1       235          Marquette  6796117.0  \n",
      "2       205  Boston University        NaN  \n",
      "3       185      Georgia State  1148640.0  \n",
      "4       231                NaN  5000000.0  \n",
      "..      ...                ...        ...  \n",
      "453     203             Butler  2433333.0  \n",
      "454     179                NaN   900000.0  \n",
      "455     256                NaN  2900000.0  \n",
      "456     231             Kansas   947276.0  \n",
      "457     231             Kansas   947276.0  \n",
      "\n",
      "[458 rows x 9 columns]\n"
     ]
    }
   ],
   "source": [
    "file_path = r\"C:\\Users\\mypc\\Downloads\\employee_data.xlsx\"\n",
    "df = pd.read_excel(file_path)\n",
    "print(df)"
   ]
  },
  {
   "cell_type": "code",
   "execution_count": 3,
   "id": "d8625b4c-c5cf-4b4c-b9f6-312620b7fc20",
   "metadata": {},
   "outputs": [
    {
     "name": "stdout",
     "output_type": "stream",
     "text": [
      "            Name            Team  Number Position  Age  Height  Weight  \\\n",
      "0  Avery Bradley  Boston Celtics       0       PG   25     164     180   \n",
      "1    Jae Crowder  Boston Celtics      99       SF   25     150     235   \n",
      "2   John Holland  Boston Celtics      30       SG   27     169     205   \n",
      "3    R.J. Hunter  Boston Celtics      28       SG   22     163     185   \n",
      "4  Jonas Jerebko  Boston Celtics       8       PF   29     161     231   \n",
      "\n",
      "             College     Salary  \n",
      "0              Texas  7730337.0  \n",
      "1          Marquette  6796117.0  \n",
      "2  Boston University        NaN  \n",
      "3      Georgia State  1148640.0  \n",
      "4                NaN  5000000.0  \n"
     ]
    }
   ],
   "source": [
    "df['Height'] = np.random.randint(150, 181, size=len(df))\n",
    "print(df.head())"
   ]
  },
  {
   "cell_type": "code",
   "execution_count": 4,
   "id": "11f15a3d-c151-4241-a266-275538c163f3",
   "metadata": {},
   "outputs": [
    {
     "name": "stdout",
     "output_type": "stream",
     "text": [
      "<class 'pandas.core.frame.DataFrame'>\n",
      "RangeIndex: 458 entries, 0 to 457\n",
      "Data columns (total 9 columns):\n",
      " #   Column    Non-Null Count  Dtype  \n",
      "---  ------    --------------  -----  \n",
      " 0   Name      458 non-null    object \n",
      " 1   Team      458 non-null    object \n",
      " 2   Number    458 non-null    int64  \n",
      " 3   Position  458 non-null    object \n",
      " 4   Age       458 non-null    int64  \n",
      " 5   Height    458 non-null    int32  \n",
      " 6   Weight    458 non-null    int64  \n",
      " 7   College   374 non-null    object \n",
      " 8   Salary    447 non-null    float64\n",
      "dtypes: float64(1), int32(1), int64(3), object(4)\n",
      "memory usage: 30.5+ KB\n"
     ]
    }
   ],
   "source": [
    "df.info()"
   ]
  },
  {
   "cell_type": "code",
   "execution_count": 5,
   "id": "ea834da9-680d-461c-a6fd-b06996e5c44b",
   "metadata": {},
   "outputs": [
    {
     "data": {
      "text/plain": [
       "Name         0\n",
       "Team         0\n",
       "Number       0\n",
       "Position     0\n",
       "Age          0\n",
       "Height       0\n",
       "Weight       0\n",
       "College     84\n",
       "Salary      11\n",
       "dtype: int64"
      ]
     },
     "execution_count": 5,
     "metadata": {},
     "output_type": "execute_result"
    }
   ],
   "source": [
    "df.isnull().sum()"
   ]
  },
  {
   "cell_type": "code",
   "execution_count": 17,
   "id": "92757a0c-e4ff-41ad-ac1a-4c1072351dad",
   "metadata": {},
   "outputs": [
    {
     "data": {
      "image/png": "[encoded data removed]",
      "text/plain": [
       "<Figure size 640x480 with 1 Axes>"
      ]
     },
     "metadata": {},
     "output_type": "display_data"
    }
   ],
   "source": [
    "plt.scatter(range(len(df['Salary'])),df['Salary'])\n",
    "plt.xlabel('Index')\n",
    "plt.ylabel('Salary')\n",
    "plt.title('Scatter Diagram')\n",
    "plt.show()"
   ]
  },
  {
   "cell_type": "code",
   "execution_count": 18,
   "id": "25047043-a42b-4b09-a7aa-ce56973ac9a2",
   "metadata": {},
   "outputs": [
    {
     "data": {
      "text/html": [
       "<div>\n",
       "<style scoped>\n",
       "    .dataframe tbody tr th:only-of-type {\n",
       "        vertical-align: middle;\n",
       "    }\n",
       "\n",
       "    .dataframe tbody tr th {\n",
       "        vertical-align: top;\n",
       "    }\n",
       "\n",
       "    .dataframe thead th {\n",
       "        text-align: right;\n",
       "    }\n",
       "</style>\n",
       "<table border=\"1\" class=\"dataframe\">\n",
       "  <thead>\n",
       "    <tr style=\"text-align: right;\">\n",
       "      <th></th>\n",
       "      <th>Number</th>\n",
       "      <th>Age</th>\n",
       "      <th>Height</th>\n",
       "      <th>Weight</th>\n",
       "      <th>Salary</th>\n",
       "    </tr>\n",
       "  </thead>\n",
       "  <tbody>\n",
       "    <tr>\n",
       "      <th>count</th>\n",
       "      <td>458.000000</td>\n",
       "      <td>458.000000</td>\n",
       "      <td>458.000000</td>\n",
       "      <td>458.000000</td>\n",
       "      <td>4.470000e+02</td>\n",
       "    </tr>\n",
       "    <tr>\n",
       "      <th>mean</th>\n",
       "      <td>17.713974</td>\n",
       "      <td>26.934498</td>\n",
       "      <td>164.535233</td>\n",
       "      <td>221.543668</td>\n",
       "      <td>4.833970e+06</td>\n",
       "    </tr>\n",
       "    <tr>\n",
       "      <th>std</th>\n",
       "      <td>15.966837</td>\n",
       "      <td>4.400128</td>\n",
       "      <td>8.585348</td>\n",
       "      <td>26.343200</td>\n",
       "      <td>5.226620e+06</td>\n",
       "    </tr>\n",
       "    <tr>\n",
       "      <th>min</th>\n",
       "      <td>0.000000</td>\n",
       "      <td>19.000000</td>\n",
       "      <td>150.067667</td>\n",
       "      <td>161.000000</td>\n",
       "      <td>3.088800e+04</td>\n",
       "    </tr>\n",
       "    <tr>\n",
       "      <th>25%</th>\n",
       "      <td>5.000000</td>\n",
       "      <td>24.000000</td>\n",
       "      <td>157.636766</td>\n",
       "      <td>200.000000</td>\n",
       "      <td>1.025210e+06</td>\n",
       "    </tr>\n",
       "    <tr>\n",
       "      <th>50%</th>\n",
       "      <td>13.000000</td>\n",
       "      <td>26.000000</td>\n",
       "      <td>164.243647</td>\n",
       "      <td>220.000000</td>\n",
       "      <td>2.836186e+06</td>\n",
       "    </tr>\n",
       "    <tr>\n",
       "      <th>75%</th>\n",
       "      <td>25.000000</td>\n",
       "      <td>30.000000</td>\n",
       "      <td>171.637532</td>\n",
       "      <td>240.000000</td>\n",
       "      <td>6.500000e+06</td>\n",
       "    </tr>\n",
       "    <tr>\n",
       "      <th>max</th>\n",
       "      <td>99.000000</td>\n",
       "      <td>40.000000</td>\n",
       "      <td>179.959460</td>\n",
       "      <td>307.000000</td>\n",
       "      <td>2.500000e+07</td>\n",
       "    </tr>\n",
       "  </tbody>\n",
       "</table>\n",
       "</div>"
      ],
      "text/plain": [
       "           Number         Age      Height      Weight        Salary\n",
       "count  458.000000  458.000000  458.000000  458.000000  4.470000e+02\n",
       "mean    17.713974   26.934498  164.535233  221.543668  4.833970e+06\n",
       "std     15.966837    4.400128    8.585348   26.343200  5.226620e+06\n",
       "min      0.000000   19.000000  150.067667  161.000000  3.088800e+04\n",
       "25%      5.000000   24.000000  157.636766  200.000000  1.025210e+06\n",
       "50%     13.000000   26.000000  164.243647  220.000000  2.836186e+06\n",
       "75%     25.000000   30.000000  171.637532  240.000000  6.500000e+06\n",
       "max     99.000000   40.000000  179.959460  307.000000  2.500000e+07"
      ]
     },
     "execution_count": 18,
     "metadata": {},
     "output_type": "execute_result"
    }
   ],
   "source": [
    "df.describe()"
   ]
  },
  {
   "cell_type": "code",
   "execution_count": 6,
   "id": "16cb987a-f7d0-4d99-af5a-d5ef2f0ada8e",
   "metadata": {},
   "outputs": [
    {
     "name": "stdout",
     "output_type": "stream",
     "text": [
      "Empty DataFrame\n",
      "Columns: [Name, Team, Number, Position, Age, Height, Weight, College, Salary]\n",
      "Index: []\n"
     ]
    }
   ],
   "source": [
    "duplicate=df[df.duplicated()]\n",
    "print(duplicate)"
   ]
  },
  {
   "cell_type": "markdown",
   "id": "206668e3-4a61-46a0-84b2-9b9ad83d7efb",
   "metadata": {},
   "source": [
    "<font color='red'>THERE IS NO DUPLICATE VALUES IN THE GIVEN DATASET</font>"
   ]
  },
  {
   "cell_type": "code",
   "execution_count": 7,
   "id": "9967b9c3-0c22-4d44-ba1a-25860156c011",
   "metadata": {},
   "outputs": [
    {
     "data": {
      "text/plain": [
       "0      150.959867\n",
       "1      162.926018\n",
       "2      159.535510\n",
       "3      173.638942\n",
       "4      160.809024\n",
       "          ...    \n",
       "453    165.065294\n",
       "454    172.393749\n",
       "455    179.125294\n",
       "456    159.076245\n",
       "457    168.990331\n",
       "Name: Height, Length: 458, dtype: float64"
      ]
     },
     "execution_count": 7,
     "metadata": {},
     "output_type": "execute_result"
    }
   ],
   "source": [
    "df['Height']=np.random.uniform(150,180,len(df))\n",
    "df['Height']"
   ]
  },
  {
   "cell_type": "markdown",
   "id": "95a931de-63ff-421b-b531-6a8ec87d775e",
   "metadata": {},
   "source": [
    "<font color='red'>1.How many are there in each Team and the percentage splitting with respect to the total employees.</font>"
   ]
  },
  {
   "cell_type": "code",
   "execution_count": 8,
   "id": "93c9517f-3448-4040-bb50-d34b3f20f8c1",
   "metadata": {},
   "outputs": [],
   "source": [
    "team_counts = df['Team'].value_counts()\n",
    "total_employees = len(df)\n",
    "team_percentages = (team_counts / total_employees) * 100"
   ]
  },
  {
   "cell_type": "code",
   "execution_count": 9,
   "id": "555e6979-5868-46c2-be68-a1f030489bc8",
   "metadata": {},
   "outputs": [
    {
     "data": {
      "text/plain": [
       "Team\n",
       "New Orleans Pelicans      4.148472\n",
       "Memphis Grizzlies         3.930131\n",
       "Utah Jazz                 3.493450\n",
       "New York Knicks           3.493450\n",
       "Milwaukee Bucks           3.493450\n",
       "Brooklyn Nets             3.275109\n",
       "Portland Trail Blazers    3.275109\n",
       "Oklahoma City Thunder     3.275109\n",
       "Denver Nuggets            3.275109\n",
       "Washington Wizards        3.275109\n",
       "Miami Heat                3.275109\n",
       "Charlotte Hornets         3.275109\n",
       "Atlanta Hawks             3.275109\n",
       "San Antonio Spurs         3.275109\n",
       "Houston Rockets           3.275109\n",
       "Boston Celtics            3.275109\n",
       "Indiana Pacers            3.275109\n",
       "Detroit Pistons           3.275109\n",
       "Cleveland Cavaliers       3.275109\n",
       "Chicago Bulls             3.275109\n",
       "Sacramento Kings          3.275109\n",
       "Phoenix Suns              3.275109\n",
       "Los Angeles Lakers        3.275109\n",
       "Los Angeles Clippers      3.275109\n",
       "Golden State Warriors     3.275109\n",
       "Toronto Raptors           3.275109\n",
       "Philadelphia 76ers        3.275109\n",
       "Dallas Mavericks          3.275109\n",
       "Orlando Magic             3.056769\n",
       "Minnesota Timberwolves    3.056769\n",
       "Name: count, dtype: float64"
      ]
     },
     "execution_count": 9,
     "metadata": {},
     "output_type": "execute_result"
    }
   ],
   "source": [
    "team_percentages"
   ]
  },
  {
   "cell_type": "markdown",
   "id": "d5b02f7e-1419-403e-9b51-edc4c32b9e5a",
   "metadata": {},
   "source": [
    "<font color='red'>2.Segregate the employees w.r.t different positions.</font>"
   ]
  },
  {
   "cell_type": "code",
   "execution_count": 10,
   "id": "922ec76c-ef9a-480c-924f-2bea5f1f037d",
   "metadata": {},
   "outputs": [
    {
     "data": {
      "text/plain": [
       "Position\n",
       "SG    102\n",
       "PF    100\n",
       "PG     92\n",
       "SF     85\n",
       "C      79\n",
       "Name: count, dtype: int64"
      ]
     },
     "execution_count": 10,
     "metadata": {},
     "output_type": "execute_result"
    }
   ],
   "source": [
    "position_counts = df['Position'].value_counts()\n",
    "position_counts"
   ]
  },
  {
   "cell_type": "markdown",
   "id": "a163eb0a-e71b-40d7-9b7e-cc7d9c77b1d6",
   "metadata": {},
   "source": [
    "<font color='red'>3.Find from which age group most of the employees belong to.</font>"
   ]
  },
  {
   "cell_type": "code",
   "execution_count": 11,
   "id": "8f75b36c-b199-47e3-a3e5-253bd5d6c637",
   "metadata": {},
   "outputs": [
    {
     "data": {
      "text/plain": [
       "Interval(20, 30, closed='right')"
      ]
     },
     "execution_count": 11,
     "metadata": {},
     "output_type": "execute_result"
    }
   ],
   "source": [
    "age_groups = pd.cut(df['Age'], bins=[20, 30, 40, 50, 60, 70])\n",
    "predominant_age_group = age_groups.mode()[0]\n",
    "predominant_age_group"
   ]
  },
  {
   "cell_type": "code",
   "execution_count": 20,
   "id": "7c041b51-4aae-41d5-bb5a-422eac6a0bc3",
   "metadata": {},
   "outputs": [
    {
     "data": {
      "image/png": "[encoded data removed]",
      "text/plain": [
       "<Figure size 640x480 with 1 Axes>"
      ]
     },
     "metadata": {},
     "output_type": "display_data"
    }
   ],
   "source": [
    "plt.bar(position_counts.index,position_counts.values,color='y')\n",
    "plt.xlabel('Position')\n",
    "plt.ylabel('Number of employees')\n",
    "plt.show()"
   ]
  },
  {
   "cell_type": "markdown",
   "id": "f0e68a58-fb7e-451a-88d5-38bed24cc806",
   "metadata": {},
   "source": [
    "<font color='blue'>SG HAS MORE NUMBER OF PLAYERS.</font>"
   ]
  },
  {
   "cell_type": "markdown",
   "id": "bee92ead-76b2-4f90-9bc5-06bdc09d1082",
   "metadata": {},
   "source": [
    "<font color='red'>4.Find out under which team and position, spending in terms of salary is high.</font>"
   ]
  },
  {
   "cell_type": "code",
   "execution_count": 12,
   "id": "aab11404-c8dd-4e50-b682-d2ad9a5fb739",
   "metadata": {},
   "outputs": [
    {
     "data": {
      "text/plain": [
       "('Los Angeles Lakers', 'SF')"
      ]
     },
     "execution_count": 12,
     "metadata": {},
     "output_type": "execute_result"
    }
   ],
   "source": [
    "highest_spending = df.groupby(['Team', 'Position'])['Salary'].sum().idxmax()\n",
    "highest_spending"
   ]
  },
  {
   "cell_type": "markdown",
   "id": "bc4335bc-1c3b-48ef-b8c3-17f99052748e",
   "metadata": {},
   "source": [
    "<font color='red'>5.Find if there is any correlation between age and salary , represent it visually.\n",
    "Before doing the above questions,perform pre processing of the dataset. Also, the column height is having incorrect data, changing the data of that particular column with any random numbers between 150 and 180.\n",
    "</font>"
   ]
  },
  {
   "cell_type": "code",
   "execution_count": 15,
   "id": "09d74b48-a216-43c9-8b38-a6aad584826e",
   "metadata": {},
   "outputs": [
    {
     "data": {
      "text/plain": [
       "0.2140094122657097"
      ]
     },
     "execution_count": 15,
     "metadata": {},
     "output_type": "execute_result"
    }
   ],
   "source": [
    "correlation = df['Age'].corr(df['Salary'])\n",
    "correlation"
   ]
  },
  {
   "cell_type": "code",
   "execution_count": 16,
   "id": "31f96ef3-b430-41d2-8725-85a1053ebe55",
   "metadata": {},
   "outputs": [
    {
     "data": {
      "image/png": "[encoded data removed]",
      "text/plain": [
       "<Figure size 640x480 with 1 Axes>"
      ]
     },
     "metadata": {},
     "output_type": "display_data"
    }
   ],
   "source": [
    "plt.scatter(df['Age'],df['Salary'])\n",
    "plt.title('Age vs Salary Scatter Plot')\n",
    "plt.xlabel('Age')\n",
    "plt.ylabel('Salary')\n",
    "plt.show()"
   ]
  },
  {
   "cell_type": "markdown",
   "id": "bcce0f58-dba5-4880-ac47-ca07088bf2b1",
   "metadata": {},
   "source": [
    "<font color='black'>Data Story: There is a weak positive correlation between Age and Salary. As age increases, salary tends to increase</font>"
   ]
  },
  {
   "cell_type": "code",
   "execution_count": null,
   "id": "6776c3fc-54bb-4b21-abe6-3114f483e70c",
   "metadata": {},
   "outputs": [],
   "source": []
  }
 ],
 "metadata": {
  "kernelspec": {
   "display_name": "Python 3 (ipykernel)",
   "language": "python",
   "name": "python3"
  },
  "language_info": {
   "codemirror_mode": {
    "name": "ipython",
    "version": 3
   },
   "file_extension": ".py",
   "mimetype": "text/x-python",
   "name": "python",
   "nbconvert_exporter": "python",
   "pygments_lexer": "ipython3",
   "version": "3.12.1"
  }
 },
 "nbformat": 4,
 "nbformat_minor": 5
}
